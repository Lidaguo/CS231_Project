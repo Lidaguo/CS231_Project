{
 "cells": [
  {
   "cell_type": "code",
   "execution_count": 15,
   "metadata": {
    "collapsed": false
   },
   "outputs": [
    {
     "name": "stdout",
     "output_type": "stream",
     "text": [
      "5906\t./features1\r\n",
      "5906\t./fine_test_features_2000\r\n",
      "5906\t./fine_test_features_3000\r\n",
      "5906\t./fine_test_features_4000\r\n",
      "5906\t./fine_test_features_5000\r\n",
      "5906\t./fine_test_features_14000\r\n",
      "52846\t./fine_train_features_1000\r\n",
      "52846\t./fine_train_features_2000\r\n",
      "52846\t./fine_train_features_3000\r\n",
      "52846\t./fine_train_features_4000\r\n",
      "52846\t./fine_train_features_5000\r\n",
      "10514\t./fine_train_features_6000\r\n",
      "52846\t./fine_train_features_7000\r\n",
      "52846\t./fine_train_features_8000\r\n",
      "52846\t./fine_train_features_9000\r\n",
      "52846\t./fine_train_features_10000\r\n",
      "52846\t./fine_train_features_11000\r\n",
      "52846\t./fine_train_features_12000\r\n",
      "2418\t./fine_train_features_13000\r\n",
      "52846\t./fine_train_features_15000\r\n",
      "5906\t./fine_test_features_6000\r\n",
      "5906\t./fine_test_features_7000\r\n",
      "5906\t./fine_test_features_8000\r\n",
      "5906\t./fine_test_features_9000\r\n",
      "5906\t./fine_test_features_10000\r\n",
      "5906\t./fine_test_features_11000\r\n",
      "52846\t./fine_train_features_17000\r\n",
      "5906\t./fine_test_features_12000\r\n",
      "5906\t./fine_test_features_13000\r\n",
      "5906\t./fine_test_features_1000\r\n",
      "5906\t./fine_test_features_15000\r\n",
      "17142\t./fine_train_features_19000\r\n",
      "4626\t./fine_test_features_16000\r\n",
      "816198\t.\r\n"
     ]
    }
   ],
   "source": [
    "!du ."
   ]
  },
  {
   "cell_type": "code",
   "execution_count": 16,
   "metadata": {
    "collapsed": false
   },
   "outputs": [
    {
     "name": "stdout",
     "output_type": "stream",
     "text": [
      "run1_iter_10.caffemodel   run2_iter_5.solverstate      run3_iter_3000.caffemodel   run3_iter_6000.solverstate\r\n",
      "run1_iter_10.solverstate  run3_iter_10000.caffemodel   run3_iter_3000.solverstate  run3_iter_7000.caffemodel\r\n",
      "run1_iter_5.caffemodel    run3_iter_10000.solverstate  run3_iter_4000.caffemodel   run3_iter_7000.solverstate\r\n",
      "run1_iter_5.solverstate   run3_iter_1000.caffemodel    run3_iter_4000.solverstate  run3_iter_8000.caffemodel\r\n",
      "run2_iter_10.caffemodel   run3_iter_1000.solverstate   run3_iter_5000.caffemodel   run3_iter_8000.solverstate\r\n",
      "run2_iter_10.solverstate  run3_iter_2000.caffemodel    run3_iter_5000.solverstate  run3_iter_9000.caffemodel\r\n",
      "run2_iter_5.caffemodel    run3_iter_2000.solverstate   run3_iter_6000.caffemodel   run3_iter_9000.solverstate\r\n"
     ]
    }
   ],
   "source": [
    "ls ../../shot_detect_optical_flow_5_concat/snapshots/"
   ]
  },
  {
   "cell_type": "code",
   "execution_count": 4,
   "metadata": {
    "collapsed": false
   },
   "outputs": [
    {
     "name": "stdout",
     "output_type": "stream",
     "text": [
      "/afs/cs.stanford.edu/u/anenberg/scr/CS231N/examples/shot_detect_5/extracted\n"
     ]
    }
   ],
   "source": [
    "cd extracted/"
   ]
  },
  {
   "cell_type": "code",
   "execution_count": null,
   "metadata": {
    "collapsed": true
   },
   "outputs": [],
   "source": []
  }
 ],
 "metadata": {
  "kernelspec": {
   "display_name": "Python 2",
   "language": "python",
   "name": "python2"
  },
  "language_info": {
   "codemirror_mode": {
    "name": "ipython",
    "version": 2
   },
   "file_extension": ".py",
   "mimetype": "text/x-python",
   "name": "python",
   "nbconvert_exporter": "python",
   "pygments_lexer": "ipython2",
   "version": "2.7.3"
  }
 },
 "nbformat": 4,
 "nbformat_minor": 0
}
