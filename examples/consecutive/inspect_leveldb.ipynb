{
 "cells": [
  {
   "cell_type": "code",
   "execution_count": 4,
   "metadata": {
    "collapsed": false
   },
   "outputs": [],
   "source": [
    "import leveldb\n",
    "import sys, numpy as np\n",
    "sys.path.append(\"/afs/cs.stanford.edu/u/anenberg/scr/caffe/python/\")\n",
    "import caffe\n",
    "import lmdb\n"
   ]
  },
  {
   "cell_type": "code",
   "execution_count": 5,
   "metadata": {
    "collapsed": false
   },
   "outputs": [],
   "source": [
    "db = leveldb.LevelDB('/afs/cs.stanford.edu/u/anenberg/scr/CS231N/examples/consecutive/leveldb/train/')"
   ]
  },
  {
   "cell_type": "code",
   "execution_count": 2,
   "metadata": {
    "collapsed": false
   },
   "outputs": [
    {
     "name": "stdout",
     "output_type": "stream",
     "text": [
      "ls: cannot access ../../CS231/data/allFrames/intermediate_lists/consecutive_5samples_10frames_test_list.txt: No such file or directory\r\n"
     ]
    }
   ],
   "source": [
    "ls ../../CS231/data/allFrames/intermediate_lists/consecutive_5samples_10frames_test_list.txt"
   ]
  },
  {
   "cell_type": "code",
   "execution_count": 11,
   "metadata": {
    "collapsed": false,
    "scrolled": true
   },
   "outputs": [
    {
     "name": "stdout",
     "output_type": "stream",
     "text": [
      "[[156 156 156 156 156 156 156 156 160 160]\n",
      " [156 156 156 156 156 156 156 156 160 160]\n",
      " [156 156 156 156 156 156 156 156 160 160]\n",
      " [156 156 156 156 156 156 156 156 160 160]\n",
      " [156 156 156 156 156 156 156 156 160 160]\n",
      " [156 156 156 156 156 156 156 156 160 160]\n",
      " [156 156 156 156 156 156 156 156 160 160]\n",
      " [156 156 156 156 156 156 156 156 160 160]\n",
      " [154 154 154 154 154 154 154 154 160 160]\n",
      " [154 154 154 154 154 154 154 154 160 160]]\n",
      "87\n",
      "[[124 124 124 124 124 124 124 124 125 125]\n",
      " [124 124 124 124 124 124 124 124 125 125]\n",
      " [124 124 124 124 124 124 124 124 125 125]\n",
      " [124 124 124 124 124 124 124 124 125 125]\n",
      " [124 124 124 124 124 124 124 124 125 125]\n",
      " [124 124 124 124 124 124 124 124 125 125]\n",
      " [124 124 124 124 124 124 124 124 125 125]\n",
      " [124 124 124 124 124 124 124 124 125 125]\n",
      " [125 125 125 125 125 125 125 125 124 124]\n",
      " [125 125 125 125 125 125 125 125 124 124]]\n",
      "87\n"
     ]
    }
   ],
   "source": [
    "for i in range(2):\n",
    "    val = db.Get('%08d'%i)\n",
    "    datum = caffe.proto.caffe_pb2.Datum()\n",
    "    datum.ParseFromString(val)\n",
    "    a = caffe.io.datum_to_array(datum)\n",
    "    print a[15, 40:50, 40:50]\n",
    "    print datum.ListFields()[4][1]"
   ]
  },
  {
   "cell_type": "code",
   "execution_count": 30,
   "metadata": {
    "collapsed": false
   },
   "outputs": [
    {
     "ename": "AttributeError",
     "evalue": "'leveldb.LevelDB' object has no attribute 'close'",
     "output_type": "error",
     "traceback": [
      "\u001b[1;31m---------------------------------------------------------------------------\u001b[0m",
      "\u001b[1;31mAttributeError\u001b[0m                            Traceback (most recent call last)",
      "\u001b[1;32m<ipython-input-30-de8b2821562c>\u001b[0m in \u001b[0;36m<module>\u001b[1;34m()\u001b[0m\n\u001b[1;32m----> 1\u001b[1;33m \u001b[0mdb\u001b[0m\u001b[1;33m.\u001b[0m\u001b[0mclose\u001b[0m\u001b[1;33m(\u001b[0m\u001b[1;33m)\u001b[0m\u001b[1;33m\u001b[0m\u001b[0m\n\u001b[0m",
      "\u001b[1;31mAttributeError\u001b[0m: 'leveldb.LevelDB' object has no attribute 'close'"
     ]
    }
   ],
   "source": [
    "db.close()"
   ]
  },
  {
   "cell_type": "code",
   "execution_count": 3,
   "metadata": {
    "collapsed": false
   },
   "outputs": [
    {
     "name": "stdout",
     "output_type": "stream",
     "text": [
      "/afs/cs.stanford.edu/u/anenberg/scr/CS231N/examples/consecutive/leveldb/train/LOCK: 11323\r\n"
     ]
    }
   ],
   "source": [
    "!fuser /afs/cs.stanford.edu/u/anenberg/scr/CS231N/examples/consecutive/leveldb/train/LOCK"
   ]
  },
  {
   "cell_type": "code",
   "execution_count": 4,
   "metadata": {
    "collapsed": true
   },
   "outputs": [],
   "source": [
    "!kill -9 11323"
   ]
  },
  {
   "cell_type": "code",
   "execution_count": null,
   "metadata": {
    "collapsed": true
   },
   "outputs": [],
   "source": []
  }
 ],
 "metadata": {
  "kernelspec": {
   "display_name": "Python 2",
   "language": "python",
   "name": "python2"
  },
  "language_info": {
   "codemirror_mode": {
    "name": "ipython",
    "version": 2
   },
   "file_extension": ".py",
   "mimetype": "text/x-python",
   "name": "python",
   "nbconvert_exporter": "python",
   "pygments_lexer": "ipython2",
   "version": "2.7.3"
  }
 },
 "nbformat": 4,
 "nbformat_minor": 0
}
