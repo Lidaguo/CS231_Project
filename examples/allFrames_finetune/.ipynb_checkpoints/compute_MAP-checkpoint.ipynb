{
 "cells": [
  {
   "cell_type": "code",
   "execution_count": 1,
   "metadata": {
    "collapsed": false
   },
   "outputs": [],
   "source": [
    "import pandas as pd\n",
    "import sys, numpy as np\n",
    "sys.path.append(\"/afs/cs.stanford.edu/u/anenberg/scr/caffe/python/\")\n",
    "import caffe\n",
    "import lmdb\n",
    "\n",
    "\n",
    "# location of the list that was used to create LMDB for training/testing\n",
    "test_list = '../../data/allFrames/lists/fullpath_shuffle_sampled_100_test_list.txt'\n",
    "\n",
    "N = 156800 # the number of test examples\n",
    "num_classes = 101 # the number of classes"
   ]
  },
  {
   "cell_type": "markdown",
   "metadata": {},
   "source": [
    "# Get the labels from the list"
   ]
  },
  {
   "cell_type": "code",
   "execution_count": 2,
   "metadata": {
    "collapsed": false
   },
   "outputs": [],
   "source": [
    "def get_label_from_list(list_filename):\n",
    "    df = pd.read_csv(list_filename, delimiter= ' ', header = None, names = ['filename', 'class_id'])\n",
    "    return df\n",
    "\n",
    "df =  get_label_from_list(test_list)\n",
    "labels = df.class_id.values"
   ]
  },
  {
   "cell_type": "markdown",
   "metadata": {},
   "source": [
    "# Extract features using the extract_features binary"
   ]
  },
  {
   "cell_type": "code",
   "execution_count": 3,
   "metadata": {
    "collapsed": false,
    "scrolled": true
   },
   "outputs": [
    {
     "name": "stdout",
     "output_type": "stream",
     "text": [
      "E0307 13:36:02.303421 17494 extract_features.cpp:54] Using GPU\n",
      "E0307 13:36:02.303927 17494 extract_features.cpp:60] Using Device_id=2\n",
      "E0307 13:36:02.854595 17494 upgrade_proto.cpp:618] Attempting to upgrade input file specified using deprecated V1LayerParameter: ./quick_train_test_100frames.prototxt\n",
      "E0307 13:36:27.671650 17494 extract_features.cpp:134] Extacting Features\n",
      "E0307 13:37:09.678227 17494 extract_features.cpp:169] Extracted features of 1000 query images for feature blob fc8_allFrames\n",
      "E0307 13:37:51.527472 17494 extract_features.cpp:169] Extracted features of 2000 query images for feature blob fc8_allFrames\n",
      "E0307 13:38:31.553643 17494 extract_features.cpp:169] Extracted features of 3000 query images for feature blob fc8_allFrames\n",
      "E0307 13:39:08.373400 17494 extract_features.cpp:169] Extracted features of 4000 query images for feature blob fc8_allFrames\n",
      "E0307 13:39:46.031404 17494 extract_features.cpp:169] Extracted features of 5000 query images for feature blob fc8_allFrames\n",
      "E0307 13:40:23.256096 17494 extract_features.cpp:169] Extracted features of 6000 query images for feature blob fc8_allFrames\n",
      "E0307 13:41:03.286986 17494 extract_features.cpp:169] Extracted features of 7000 query images for feature blob fc8_allFrames\n",
      "^C\n"
     ]
    }
   ],
   "source": [
    "!./extract.sh "
   ]
  },
  {
   "cell_type": "markdown",
   "metadata": {},
   "source": [
    "## Open and extract the data from the LMDB"
   ]
  },
  {
   "cell_type": "code",
   "execution_count": 196,
   "metadata": {
    "collapsed": false
   },
   "outputs": [],
   "source": [
    "env = lmdb.open('/afs/cs.stanford.edu/u/anenberg/scr/CS231N/examples/allFrames_finetune/extracted/features_100frames/', readonly=True)\n",
    "\n",
    "predicted_labels = [] # for a particular image, this will be the argmax for the scores\n",
    "data = np.zeros((N, num_classes)) # collect the scores for each image for each class\n",
    "\n",
    "with env.begin() as txn:\n",
    "    with txn.cursor() as cursor:\n",
    "        for i in range(N):\n",
    "            key = str(i)\n",
    "            val = cursor.get(key)\n",
    "            datum = caffe.proto.caffe_pb2.Datum()\n",
    "            datum.ParseFromString(val)\n",
    "            # datum.ListFields()[3][1] contains the scores\n",
    "            data[i, :] = np.array(list(datum.ListFields()[3][1]))\n",
    "            predicted_labels.append(np.argmax(np.array(list(datum.ListFields()[3][1]))))\n"
   ]
  },
  {
   "cell_type": "markdown",
   "metadata": {},
   "source": [
    "# What was the accuracy?"
   ]
  },
  {
   "cell_type": "code",
   "execution_count": 291,
   "metadata": {
    "collapsed": false,
    "scrolled": true
   },
   "outputs": [
    {
     "data": {
      "text/plain": [
       "0.24910714285714286"
      ]
     },
     "execution_count": 291,
     "metadata": {},
     "output_type": "execute_result"
    }
   ],
   "source": [
    "np.mean(np.array(predicted_labels) == labels)"
   ]
  },
  {
   "cell_type": "markdown",
   "metadata": {},
   "source": [
    "#Normalize scores to compute average precision for each class"
   ]
  },
  {
   "cell_type": "code",
   "execution_count": 293,
   "metadata": {
    "collapsed": false
   },
   "outputs": [],
   "source": [
    "normalized_data = np.exp(data)/sum(np.exp(data))\n",
    "\n",
    "def compute_average_precision(scores, predicted_labels, true_labels, class_id):\n",
    "    # given a class_id compute the average precision for that class\n",
    "    df = pd.DataFrame(zip(scores, predicted_labels, true_labels), columns = ['scores', 'predicted_labels', 'true_labels'])\n",
    "    df = df.sort('scores', ascending=False)\n",
    "    df['match'] = (df.true_labels == class_id)\n",
    "    df['precision'] = np.cumsum(df.match)/np.arange(1, N + 1)\n",
    "    df['recall'] = np.cumsum(df.match)/np.sum(true_labels == class_id)\n",
    "    df['delta_recall'] = np.diff(np.append([0], df.recall.values))\n",
    "    df['rect_area'] = df['precision'] * df['delta_recall']\n",
    "    # print df\n",
    "    return sum(df.rect_area)\n",
    "\n",
    "average_precision = [] # list to hold average_precision\n",
    "\n",
    "for class_id in range(num_classes):\n",
    "    ca = compute_average_precision(normalized_data[:, class_id], predicted_labels, labels, class_id)\n",
    "    average_precision.append(ca)"
   ]
  },
  {
   "cell_type": "code",
   "execution_count": 294,
   "metadata": {
    "collapsed": false
   },
   "outputs": [
    {
     "name": "stdout",
     "output_type": "stream",
     "text": [
      "MAP: 0.210921\n"
     ]
    }
   ],
   "source": [
    "print 'MAP: %2f'%np.mean(average_precision)"
   ]
  }
 ],
 "metadata": {
  "kernelspec": {
   "display_name": "Python 2",
   "language": "python",
   "name": "python2"
  },
  "language_info": {
   "codemirror_mode": {
    "name": "ipython",
    "version": 2
   },
   "file_extension": ".py",
   "mimetype": "text/x-python",
   "name": "python",
   "nbconvert_exporter": "python",
   "pygments_lexer": "ipython2",
   "version": "2.7.3"
  }
 },
 "nbformat": 4,
 "nbformat_minor": 0
}
