{
 "cells": [
  {
   "cell_type": "code",
   "execution_count": 12,
   "metadata": {
    "collapsed": false
   },
   "outputs": [
    {
     "ename": "Error",
     "evalue": "./temp/features: No such file or directory",
     "output_type": "error",
     "traceback": [
      "\u001b[1;31m---------------------------------------------------------------------------\u001b[0m",
      "\u001b[1;31mError\u001b[0m                                     Traceback (most recent call last)",
      "\u001b[1;32m<ipython-input-12-cfea789dfc12>\u001b[0m in \u001b[0;36m<module>\u001b[1;34m()\u001b[0m\n\u001b[0;32m      8\u001b[0m \u001b[0mlmdb_path\u001b[0m \u001b[1;33m=\u001b[0m \u001b[1;34m\"./temp/features\"\u001b[0m\u001b[1;33m\u001b[0m\u001b[0m\n\u001b[0;32m      9\u001b[0m \u001b[1;33m\u001b[0m\u001b[0m\n\u001b[1;32m---> 10\u001b[1;33m \u001b[0menv\u001b[0m \u001b[1;33m=\u001b[0m \u001b[0mlmdb\u001b[0m\u001b[1;33m.\u001b[0m\u001b[0mopen\u001b[0m\u001b[1;33m(\u001b[0m\u001b[0mlmdb_path\u001b[0m\u001b[1;33m,\u001b[0m \u001b[0mreadonly\u001b[0m\u001b[1;33m=\u001b[0m\u001b[0mTrue\u001b[0m\u001b[1;33m)\u001b[0m\u001b[1;33m\u001b[0m\u001b[0m\n\u001b[0m\u001b[0;32m     11\u001b[0m \u001b[1;33m\u001b[0m\u001b[0m\n\u001b[0;32m     12\u001b[0m \u001b[1;31m# for fun, see what formats caffe_pb2 defines for us\u001b[0m\u001b[1;33m\u001b[0m\u001b[1;33m\u001b[0m\u001b[0m\n",
      "\u001b[1;31mError\u001b[0m: ./temp/features: No such file or directory"
     ]
    }
   ],
   "source": [
    "import sys\n",
    "sys.path.append(\"/afs/cs.stanford.edu/u/anenberg/scr/caffe/python/\")\n",
    "import caffe\n",
    "import lmdb\n",
    "\n",
    "#lmdb_path = /path/to/your/lmdb\n",
    "#lmdb_path = \"../allFrames/train_lmdb_shuffle_sampled\"\n",
    "lmdb_path = \"./temp/features\"\n",
    "\n",
    "env = lmdb.open(lmdb_path, readonly=True)\n",
    "\n",
    "# for fun, see what formats caffe_pb2 defines for us\n",
    "print dir(caffe.proto.caffe_pb2)\n",
    "\n",
    "# now let's just get the first image's features\n",
    "with env.begin() as txn:\n",
    "    with txn.cursor() as cursor:\n",
    "        key = str(0)\n",
    "        val = cursor.get(key)\n",
    "        datum = caffe.proto.caffe_pb2.Datum()\n",
    "        datum.ParseFromString(val)\n",
    "        print datum\n"
   ]
  },
  {
   "cell_type": "code",
   "execution_count": 13,
   "metadata": {
    "collapsed": false
   },
   "outputs": [
    {
     "name": "stdout",
     "output_type": "stream",
     "text": [
      "\u001b[0m\u001b[01;32mcreate.sh\u001b[0m*                  quick_solver_lr0.prototxt      \u001b[01;34msnapshots\u001b[0m/\r\n",
      "deploy.prototxt             quick_solver.prototxt          \u001b[01;34mtemp\u001b[0m/\r\n",
      "\u001b[01;32mextractFeatures.sh\u001b[0m*         quick_train_test_lr0.prototxt  \u001b[01;32mtrain_quick.sh\u001b[0m*\r\n",
      "filter_visualization.ipynb  quick_train_test.prototxt\r\n",
      "load_feature_lmdbs.ipynb    README.md\r\n"
     ]
    }
   ],
   "source": [
    "ls ./"
   ]
  },
  {
   "cell_type": "code",
   "execution_count": null,
   "metadata": {
    "collapsed": true
   },
   "outputs": [],
   "source": []
  }
 ],
 "metadata": {
  "kernelspec": {
   "display_name": "Python 2",
   "language": "python",
   "name": "python2"
  },
  "language_info": {
   "codemirror_mode": {
    "name": "ipython",
    "version": 2
   },
   "file_extension": ".py",
   "mimetype": "text/x-python",
   "name": "python",
   "nbconvert_exporter": "python",
   "pygments_lexer": "ipython2",
   "version": "2.7.3"
  }
 },
 "nbformat": 4,
 "nbformat_minor": 0
}
