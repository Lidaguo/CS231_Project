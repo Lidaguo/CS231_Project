{
 "cells": [
  {
   "cell_type": "raw",
   "metadata": {},
   "source": [
    "This file will investigate how to perform shot detection on the videos."
   ]
  },
  {
   "cell_type": "raw",
   "metadata": {
    "collapsed": true
   },
   "source": [
    "Original attempt at using avprobe:\n",
    "cmd = 'avprobe -show_frames -of compact=p=0 -f lavfi \"movie=input.avi,select=gt(scene\\,0.3)\">> scenes.txt'\n"
   ]
  },
  {
   "cell_type": "code",
   "execution_count": 43,
   "metadata": {
    "collapsed": false
   },
   "outputs": [
    {
     "name": "stderr",
     "output_type": "stream",
     "text": [
      "\n",
      "real\t0m16.029s\n",
      "user\t0m29.808s\n",
      "sys\t0m0.164s\n"
     ]
    }
   ],
   "source": [
    "%%bash\n",
    "video1=/afs/cs.stanford.edu/group/cvgl/rawdata/THUMOS2014/Training/videos/v_ApplyEyeMakeup_g01_c01.avi\n",
    "video2=/afs/cs.stanford.edu/group/cvgl/rawdata/THUMOS2014/Validation/videos/video_validation_0000006.mp4\n",
    "#time ../../Shotdetect/build/shotdetect-cmd -i $video2 -a second -o shotScenes -s 60 -v -f -l -m -r 2> /dev/null\n",
    "time ../../Shotdetect/build/shotdetect-cmd -i $video2 -a third -o shotScenes -s 60 2> shotError.txt"
   ]
  },
  {
   "cell_type": "raw",
   "metadata": {
    "collapsed": true
   },
   "source": [
    "Need to iterate over the temporally untrimmed data. Iterate over the validation and the testing videos, and for each video "
   ]
  },
  {
   "cell_type": "code",
   "execution_count": 10,
   "metadata": {
    "collapsed": false,
    "scrolled": true
   },
   "outputs": [],
   "source": [
    "import os, subprocess, pickle\n",
    "import matplotlib.image as mpimg\n",
    "import numpy as np\n",
    "import matplotlib.pyplot as plt\n",
    "%matplotlib inline\n",
    "\n",
    "def findSceneTrans(videoName, threshold):\n",
    "    \"\"\"\n",
    "    Given a video, returns a list of frame numbers which are the starting frame of the transition\n",
    "    between scenes.\n",
    "    \"\"\"\n",
    "    \n",
    "    #Returns the duration of the video in seconds.\n",
    "    if not os.path.exists(videoName):\n",
    "        print '%s does not exist!' % videoName\n",
    "        return False\n",
    "    shotdetect = '/afs/cs.stanford.edu/u/anenberg/scr/Shotdetect/build/shotdetect-cmd'\n",
    "    p = subprocess.Popen([shotdetect, '-i', videoName, '-a', 'FOO', '-o', 'shot_FOO', '-s', str(threshold)], stdout=subprocess.PIPE,stderr=subprocess.PIPE)\n",
    "    out, err = p.communicate()\n",
    "    output = err.split()\n",
    "    frameList = []\n",
    "    for i in xrange(len(output)):\n",
    "        if output[i]=='frame::':\n",
    "            frameList.append(int(output[i+1]))\n",
    "    return frameList\n",
    "\n",
    "\n",
    "video2=\"/afs/cs.stanford.edu/group/cvgl/rawdata/THUMOS2014/Validation/videos/video_validation_0000006.mp4\"\n",
    "frameList = findSceneTrans(video2,99)\n",
    "\n",
    "\n",
    "\n",
    "\n",
    "im_path = \"/afs/cs.stanford.edu/u/anenberg/scr/CS231N/data/allFrames/train/video_validation_0000006/\"\n",
    "videopkl=\"/afs/cs.stanford.edu/u/anenberg/scr/CS231N/data/allFrames/train/video_validation_0000006/time_stamp_map.pkl\"\n",
    "frameMap = pickle.load( open(videopkl, \"rb\"))\n",
    "\n",
    "\n",
    "\n",
    "#for i in frameList:\n",
    "#    img = mping\n",
    "#img=mpimg.imread('stinkbug.png')"
   ]
  },
  {
   "cell_type": "markdown",
   "metadata": {
    "collapsed": true
   },
   "source": [
    "# To visualize some nice transition frames,run the following code. We can save the frames to show how the segmentaion is able to identify the transitions in the video.\n",
    "\n"
   ]
  },
  {
   "cell_type": "code",
   "execution_count": 21,
   "metadata": {
    "collapsed": false
   },
   "outputs": [],
   "source": [
    "from IPython import display\n",
    "def printIm(im_path, frameNum):\n",
    "    num = '%08d.jpg'%frameNum\n",
    "    frame_path = im_path+num\n",
    "    img = mpimg.imread(frame_path)\n",
    "    plt.imshow(img)\n",
    "    plt.imshow(img, origin=\"lower\")\n",
    "    plt.gca().axis('off')\n",
    "    plt.gcf().set_size_inches((2, 2))\n",
    "    plt.show()"
   ]
  },
  {
   "cell_type": "code",
   "execution_count": 31,
   "metadata": {
    "collapsed": false
   },
   "outputs": [],
   "source": [
    "import os\n",
    "sceneTransitionDir = \"/afs/cs.stanford.edu/u/anenberg/scr/CS231N/data/allFrames/sceneTransitions/\"\n",
    "testVideo = \"video_test_0000040.pkl\"\n",
    "pickledList = os.path.join(sceneTransitionDir,testVideo)\n",
    "frameList = pickle.load( open(pickledList, \"rb\" ) )\n",
    "\n",
    "videoPath = \"/afs/cs.stanford.edu/u/anenberg/scr/CS231N/data/allFrames/test/video_test_0000040/\"\n",
    "frameMap = pickle.load( open(os.path.join(videoPath, \"time_stamp_map.pkl\"), \"rb\"))"
   ]
  },
  {
   "cell_type": "code",
   "execution_count": null,
   "metadata": {
    "collapsed": false
   },
   "outputs": [],
   "source": [
    "frame_with_length = []\n",
    "end =max(frameMap.keys())\n",
    "for i in reversed(frameList):\n",
    "    frame_with_length.append((i,abs(end-i)))\n",
    "    end = i\n",
    "\n",
    "#reverse sort the list of frames by the length of their segment.\n",
    "frames_sorted = sorted(frame_with_length,key=lambda x: x[1], reverse=True)    \n",
    "\n",
    "for i, length in frames_sorted:\n",
    "    print \"frame: \" + str(i)+\", length: \"+ str(length)\n",
    "    printIm(videoPath,i)\n",
    "    display.clear_output(wait=True)\n",
    "    while True:\n",
    "        response = raw_input(\"Press enter to continue: \")\n",
    "        if not response:\n",
    "            break"
   ]
  },
  {
   "cell_type": "code",
   "execution_count": 44,
   "metadata": {
    "collapsed": false
   },
   "outputs": [
    {
     "data": {
      "image/png": "[encoded data removed]",
      "text/plain": [
       "<matplotlib.figure.Figure at 0x345f4d0>"
      ]
     },
     "metadata": {},
     "output_type": "display_data"
    }
   ],
   "source": [
    "printIm(videoPath,3009)"
   ]
  },
  {
   "cell_type": "code",
   "execution_count": 29,
   "metadata": {
    "collapsed": true
   },
   "outputs": [
    {
     "data": {
      "text/plain": [
       "[4,\n",
       " 6,\n",
       " 58,\n",
       " 148,\n",
       " 302,\n",
       " 668,\n",
       " 1012,\n",
       " 1196,\n",
       " 1330,\n",
       " 1659,\n",
       " 1773,\n",
       " 1843,\n",
       " 1899,\n",
       " 1962,\n",
       " 2035,\n",
       " 2083,\n",
       " 2359,\n",
       " 2664,\n",
       " 2925,\n",
       " 3007,\n",
       " 3009]"
      ]
     },
     "execution_count": 29,
     "metadata": {},
     "output_type": "execute_result"
    }
   ],
   "source": [
    "testVideoList"
   ]
  },
  {
   "cell_type": "code",
   "execution_count": null,
   "metadata": {
    "collapsed": true
   },
   "outputs": [],
   "source": []
  }
 ],
 "metadata": {
  "kernelspec": {
   "display_name": "Python 2",
   "language": "python",
   "name": "python2"
  },
  "language_info": {
   "codemirror_mode": {
    "name": "ipython",
    "version": 2
   },
   "file_extension": ".py",
   "mimetype": "text/x-python",
   "name": "python",
   "nbconvert_exporter": "python",
   "pygments_lexer": "ipython2",
   "version": "2.7.3"
  }
 },
 "nbformat": 4,
 "nbformat_minor": 0
}
