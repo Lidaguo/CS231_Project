{
 "cells": [
  {
   "cell_type": "code",
   "execution_count": 10,
   "metadata": {
    "collapsed": true
   },
   "outputs": [],
   "source": [
    "import avconv\n",
    "import numpy as np\n",
    "import os, sys\n",
    "\n",
    "\n",
    "#The video data can come from a number of different directories.\n",
    "UCF_DIR=\"/afs/cs.stanford.edu/group/cvgl/rawdata/THUMOS2014/Training/videos/\"\n",
    "VALID_DIR=\"/afs/cs.stanford.edu/group/cvgl/rawdata/THUMOS2014/Validation/videos/\"\n",
    "BACK_DIR=\"/afs/cs.stanford.edu/group/cvgl/rawdata/THUMOS2014/Background/videos/\"\n",
    "TEST_DIR=\"/afs/cs.stanford.edu/group/cvgl/rawdata/THUMOS2014/Test/videos/\"\n",
    "\n",
    "\n",
    "#Full data sets\n",
    "UCF_FULL=\"/afs/cs.stanford.edu/group/cvgl/rawdata/THUMOS2014/Training/train_set.txt\"\n",
    "VALID_FULL=\"/afs/cs.stanford.edu/group/cvgl/rawdata/THUMOS2014/Validation/validation_primaryclass.txt\"\n",
    "BACK_FULL=\"\"\n",
    "TEST_FULL=\"/afs/cs.stanford.edu/group/cvgl/rawdata/THUMOS2014/Test/test_primaryclass.txt\"\n",
    "\n",
    "#The training and testing cuts.\n",
    "UCF_train1=\"/afs/cs.stanford.edu/group/cvgl/rawdata/THUMOS2014/Training/ucfTrainTestlist/trainlist01.txt\"\n",
    "UCF_test1=\"/afs/cs.stanford.edu/group/cvgl/rawdata/THUMOS2014/Training/ucfTrainTestlist/testlist01.txt\"\n",
    "\n",
    "\n",
    "UCF_firstFrame_10_train = \"/afs/cs.stanford.edu/group/cvgl/rawdata/THUMOS2014/Training/firstFrame_10_train\"\n",
    "UCF_firstFrame_10_val = \"/afs/cs.stanford.edu/group/cvgl/rawdata/THUMOS2014/Training/firstFrame_10_val\"\n",
    "\n",
    "UCF_firstFrame_train = \"/afs/cs.stanford.edu/group/cvgl/rawdata/THUMOS2014/Training/firstFrame_train\"\n",
    "UCF_firstFrame_val = \"/afs/cs.stanford.edu/group/cvgl/rawdata/THUMOS2014/Training/firstFrame_val\"\n",
    "\n",
    "\n",
    "\n"
   ]
  },
  {
   "cell_type": "code",
   "execution_count": 15,
   "metadata": {
    "collapsed": false
   },
   "outputs": [],
   "source": [
    "def extract_frames(vidlist,vidDir,outputDir, outputList):\n",
    "    \"\"\"\n",
    "    vidList: python list of tuples (videos,class_id)\n",
    "    vidDir: directory of videos\n",
    "    outputList: .txt file with format [videoName classID]\n",
    "    \n",
    "    \"\"\"\n",
    "    with open(outputList, 'w+') as f:\n",
    "        for vid, class_id in vidlist:\n",
    "            videoName = os.path.join(vidDir,vid)\n",
    "            frameBase = vid.split('.')[0]+\".jpeg\"\n",
    "            frameName = os.path.join(outputDir, frameBase)\n",
    "            #avconv.extract_frame(videoName,frameName)\n",
    "            f.write('%s %s\\n'%(frameBase, class_id-1))\n",
    "\n",
    "## Now lets we must construct training and testing matrices. We will also reduce the dimensions of the videos by projecting into the PCA basis.\n",
    "\n",
    "# In[15]:\n",
    "\n",
    "def rgb2gray(rgb):\n",
    "    return np.dot(rgb[...,:3], [0.299, 0.587, 0.144])\n",
    "\n"
   ]
  },
  {
   "cell_type": "code",
   "execution_count": 4,
   "metadata": {
    "collapsed": false
   },
   "outputs": [],
   "source": [
    "def extract_by_class(filename, N = 10):\n",
    "    import csv\n",
    "    import collections\n",
    "    d = collections.defaultdict(list)\n",
    "    with open(filename, 'r+') as f:\n",
    "        data = csv.reader(f, delimiter=' ')\n",
    "        for row in data:\n",
    "            class_id = int(row[1])\n",
    "            video_filename = row[0]\n",
    "            d[class_id].append(video_filename)\n",
    "            \n",
    "    return {k: v if N==-1 else v[:N] for k, v in d.items()}\n",
    "\n",
    "# example usage:\n",
    "sampled_ucf_full = extract_by_class(UCF_FULL, -1)\n",
    "num_train_percent = .7\n",
    "sampled_ucf_train = {k:v[:int(num_train_percent*len(v))] for k,v in sampled_ucf_full.items()} \n",
    "sampled_ucf_test = {k:v[int(num_train_percent*len(v)):] for k,v in sampled_ucf_full.items()} "
   ]
  },
  {
   "cell_type": "code",
   "execution_count": 8,
   "metadata": {
    "collapsed": false
   },
   "outputs": [],
   "source": [
    "def example_dict_to_flat_list(example_dict):\n",
    "    ucf_filename_class = []\n",
    "    for k, v in example_dict.items():\n",
    "        class_id = k\n",
    "        for video_filename in v:\n",
    "            ucf_filename_class.append((video_filename, class_id))\n",
    "    return ucf_filename_class\n",
    "\n",
    "ucf_filename_class_train = example_dict_to_flat_list(sampled_ucf_train)\n",
    "ucf_filename_class_test = example_dict_to_flat_list(sampled_ucf_test)\n"
   ]
  },
  {
   "cell_type": "code",
   "execution_count": 14,
   "metadata": {
    "collapsed": false
   },
   "outputs": [],
   "source": [
    "extract_frames(ucf_filename_class_train,UCF_DIR,UCF_firstFrame_train, '../data/UCFff/UCF_train.txt')\n",
    "extract_frames(ucf_filename_class_test,UCF_DIR,UCF_firstFrame_val, '../data/UCFff/UCF_test.txt')"
   ]
  },
  {
   "cell_type": "code",
   "execution_count": 48,
   "metadata": {
    "collapsed": true
   },
   "outputs": [],
   "source": [
    "import pickle\n",
    "UCF_firstFrames = '../dataLists/UCF_firstFrames.pkl';\n",
    "with open(UCF_firstFrames, 'w+') as f:\n",
    "    pickle.dump(sampled_ucf_full,f)"
   ]
  },
  {
   "cell_type": "code",
   "execution_count": 66,
   "metadata": {
    "collapsed": false
   },
   "outputs": [
    {
     "data": {
      "text/plain": [
       "[('v_ApplyEyeMakeup_g08_c01.avi', 1),\n",
       " ('v_ApplyEyeMakeup_g08_c02.avi', 1),\n",
       " ('v_ApplyEyeMakeup_g08_c03.avi', 1),\n",
       " ('v_ApplyEyeMakeup_g08_c04.avi', 1),\n",
       " ('v_ApplyEyeMakeup_g08_c05.avi', 1),\n",
       " ('v_ApplyEyeMakeup_g09_c01.avi', 1),\n",
       " ('v_ApplyEyeMakeup_g09_c02.avi', 1),\n",
       " ('v_ApplyLipstick_g08_c01.avi', 2),\n",
       " ('v_ApplyLipstick_g08_c02.avi', 2),\n",
       " ('v_ApplyLipstick_g08_c03.avi', 2)]"
      ]
     },
     "execution_count": 66,
     "metadata": {},
     "output_type": "execute_result"
    }
   ],
   "source": [
    "ucf_filename_class_train[:10]"
   ]
  },
  {
   "cell_type": "code",
   "execution_count": 7,
   "metadata": {
    "collapsed": false
   },
   "outputs": [
    {
     "name": "stdout",
     "output_type": "stream",
     "text": [
      "101\n",
      "44\n"
     ]
    }
   ],
   "source": [
    "print len(sampled_ucf_train[1])\n",
    "print len(sampled_ucf_test[1])"
   ]
  },
  {
   "cell_type": "code",
   "execution_count": null,
   "metadata": {
    "collapsed": true
   },
   "outputs": [],
   "source": []
  }
 ],
 "metadata": {
  "kernelspec": {
   "display_name": "Python 2",
   "language": "python",
   "name": "python2"
  },
  "language_info": {
   "codemirror_mode": {
    "name": "ipython",
    "version": 2
   },
   "file_extension": ".py",
   "mimetype": "text/x-python",
   "name": "python",
   "nbconvert_exporter": "python",
   "pygments_lexer": "ipython2",
   "version": "2.7.3"
  }
 },
 "nbformat": 4,
 "nbformat_minor": 0
}
