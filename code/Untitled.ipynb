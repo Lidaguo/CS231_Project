{
 "cells": [
  {
   "cell_type": "code",
   "execution_count": 9,
   "metadata": {
    "collapsed": false
   },
   "outputs": [
    {
     "name": "stdout",
     "output_type": "stream",
     "text": [
      "total 24K\r\n",
      "drwxr-xr-x 4 anenberg users 2.0K Feb 13 13:51 \u001b[0m\u001b[01;34m.\u001b[0m/\r\n",
      "drwxr-xr-x 3 anenberg users 2.0K Feb 13 12:41 \u001b[01;34m..\u001b[0m/\r\n",
      "-rw-r--r-- 1 anenberg users 3.0K Feb 13 12:41 bvlc_caffenet_full_conv.prototxt\r\n",
      "-rwxr-xr-x 1 anenberg users 1.7K Feb 13 13:44 \u001b[01;32mcreate_imagenet.sh\u001b[0m*\r\n",
      "-rwxr-xr-x 1 anenberg users  253 Feb 13 12:41 \u001b[01;32mmake_imagenet_mean.sh\u001b[0m*\r\n",
      "-rw-r--r-- 1 anenberg users 7.5K Feb 13 12:41 readme.md\r\n",
      "-rwxr-xr-x 1 anenberg users  188 Feb 13 12:41 \u001b[01;32mresume_training.sh\u001b[0m*\r\n",
      "-rwxr-xr-x 1 anenberg users  107 Feb 13 12:41 \u001b[01;32mtrain_caffenet.sh\u001b[0m*\r\n",
      "drwxr--r-- 2 anenberg users 2.0K Feb 13 13:51 \u001b[01;34mtrain_lmdb\u001b[0m/\r\n",
      "drwxr--r-- 2 anenberg users 2.0K Feb 13 13:51 \u001b[01;34mval_lmdb\u001b[0m/\r\n"
     ]
    }
   ],
   "source": [
    "ls -lha ../models/imagenet/"
   ]
  },
  {
   "cell_type": "code",
   "execution_count": 61,
   "metadata": {
    "collapsed": false
   },
   "outputs": [
    {
     "name": "stdout",
     "output_type": "stream",
     "text": [
      "Creating leveldb...\n",
      "Computing image mean...\n",
      "E0214 15:00:08.706676 27796 compute_image_mean.cpp:114] Processed 10000 files.\n",
      "E0214 15:00:08.826845 27796 compute_image_mean.cpp:114] Processed 20000 files.\n",
      "E0214 15:00:08.926604 27796 compute_image_mean.cpp:114] Processed 30000 files.\n",
      "E0214 15:00:09.026542 27796 compute_image_mean.cpp:114] Processed 40000 files.\n",
      "E0214 15:00:09.125710 27796 compute_image_mean.cpp:114] Processed 50000 files.\n",
      "Done.\n"
     ]
    }
   ],
   "source": [
    "!examples/cifar10/create_cifar10.sh"
   ]
  },
  {
   "cell_type": "code",
   "execution_count": 82,
   "metadata": {
    "collapsed": false,
    "scrolled": true
   },
   "outputs": [
    {
     "name": "stdout",
     "output_type": "stream",
     "text": [
      "Warning: Permanently added 'bitbucket.org,131.103.20.168' (RSA) to the list of known hosts.\n",
      "Permission denied (publickey).\n",
      "fatal: Could not read from remote repository.\n",
      "\n",
      "Please make sure you have the correct access rights\n",
      "and the repository exists.\n"
     ]
    }
   ],
   "source": [
    "!git push -u bitbucket --all"
   ]
  },
  {
   "cell_type": "code",
   "execution_count": null,
   "metadata": {
    "collapsed": false
   },
   "outputs": [],
   "source": [
    "!ssh-keygen -t rsa"
   ]
  },
  {
   "cell_type": "code",
   "execution_count": 49,
   "metadata": {
    "collapsed": false
   },
   "outputs": [],
   "source": [
    "cp caffe/examples/classification.ipynb caffe/examples/classification_norman.ipynb"
   ]
  },
  {
   "cell_type": "code",
   "execution_count": 69,
   "metadata": {
    "collapsed": false
   },
   "outputs": [
    {
     "name": "stdout",
     "output_type": "stream",
     "text": [
      "total 2.3M\r\n",
      "drwxr-xr-x  4 anenberg users 2.0K Feb 14 15:16 \u001b[0m\u001b[01;34m.\u001b[0m/\r\n",
      "drwxr-xr-x 15 anenberg users 2.0K Feb 14 14:27 \u001b[01;34m..\u001b[0m/\r\n",
      "-rw-r--r--  1 anenberg users 2.0K Feb  7 14:46 cifar10_full.prototxt\r\n",
      "-rw-r--r--  1 anenberg users  922 Feb  7 14:46 cifar10_full_solver_lr1.prototxt\r\n",
      "-rw-r--r--  1 anenberg users  923 Feb  7 14:46 cifar10_full_solver_lr2.prototxt\r\n",
      "-rw-r--r--  1 anenberg users  922 Feb  7 14:46 cifar10_full_solver.prototxt\r\n",
      "-rw-r--r--  1 anenberg users 2.9K Feb  7 14:46 cifar10_full_train_test.prototxt\r\n",
      "-rw-r--r--  1 anenberg users 570K Feb 14 15:14 cifar10_quick_iter_4000.caffemodel\r\n",
      "-rw-r--r--  1 anenberg users 569K Feb 14 15:14 cifar10_quick_iter_4000.solverstate\r\n",
      "-rw-r--r--  1 anenberg users 570K Feb 14 15:16 cifar10_quick_iter_5000.caffemodel\r\n",
      "-rw-r--r--  1 anenberg users 569K Feb 14 15:16 cifar10_quick_iter_5000.solverstate\r\n",
      "-rw-r--r--  1 anenberg users 1.7K Feb  7 14:46 cifar10_quick.prototxt\r\n",
      "-rw-r--r--  1 anenberg users  860 Feb  7 14:46 cifar10_quick_solver_lr1.prototxt\r\n",
      "-rw-r--r--  1 anenberg users  859 Feb  7 14:46 cifar10_quick_solver.prototxt\r\n",
      "-rw-r--r--  1 anenberg users 2.9K Feb  7 14:46 cifar10_quick_train_test.prototxt\r\n",
      "drwxr-xr-x  2 anenberg users 2.0K Feb 14 15:14 \u001b[01;34mcifar10_test_leveldb\u001b[0m/\r\n",
      "drwxr-xr-x  2 anenberg users 2.0K Feb 14 15:14 \u001b[01;34mcifar10_train_leveldb\u001b[0m/\r\n",
      "-rw-r--r--  1 anenberg users 3.7K Feb  7 14:46 convert_cifar_data.cpp\r\n",
      "-rwxr-xr-x  1 anenberg users  431 Feb  7 14:46 \u001b[01;32mcreate_cifar10.sh\u001b[0m*\r\n",
      "-rw-r--r--  1 anenberg users  13K Feb 14 15:00 mean.binaryproto\r\n",
      "-rw-r--r--  1 anenberg users 5.2K Feb  7 14:46 readme.md\r\n",
      "-rwxr-xr-x  1 anenberg users  508 Feb  7 14:46 \u001b[01;32mtrain_full.sh\u001b[0m*\r\n",
      "-rwxr-xr-x  1 anenberg users  325 Feb  7 14:46 \u001b[01;32mtrain_quick.sh\u001b[0m*\r\n"
     ]
    }
   ],
   "source": [
    "ls -lha examples/cifar10/"
   ]
  },
  {
   "cell_type": "code",
   "execution_count": null,
   "metadata": {
    "collapsed": true
   },
   "outputs": [],
   "source": []
  }
 ],
 "metadata": {
  "kernelspec": {
   "display_name": "Python 2",
   "language": "python",
   "name": "python2"
  },
  "language_info": {
   "codemirror_mode": {
    "name": "ipython",
    "version": 2
   },
   "file_extension": ".py",
   "mimetype": "text/x-python",
   "name": "python",
   "nbconvert_exporter": "python",
   "pygments_lexer": "ipython2",
   "version": "2.7.3"
  }
 },
 "nbformat": 4,
 "nbformat_minor": 0
}
