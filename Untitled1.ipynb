{
 "cells": [
  {
   "cell_type": "code",
   "execution_count": 3,
   "metadata": {
    "collapsed": false
   },
   "outputs": [
    {
     "name": "stdout",
     "output_type": "stream",
     "text": [
      "./examples/shot_detect_optical_flow/leveldb4/test\n",
      "Done with 0\n",
      "^CTraceback (most recent call last):\n",
      "  File \"stack_images_OpticalFlow.py\", line 80, in <module>\n",
      "    is_success = opticalFlow(image_filename_list[0], image_filename_list[1], savePath = os.path.join('./optical_flow_images/%s_%s'%(df.ix[idx].video, df.ix[idx].frame1.split('.')[0])))\n",
      "  File \"stack_images_OpticalFlow.py\", line 34, in opticalFlow\n",
      "    out, err = p.communicate()\n",
      "  File \"/usr/lib/python2.7/subprocess.py\", line 754, in communicate\n",
      "    return self._communicate(input)\n",
      "  File \"/usr/lib/python2.7/subprocess.py\", line 1312, in _communicate\n",
      "    stdout, stderr = self._communicate_with_poll(input)\n",
      "  File \"/usr/lib/python2.7/subprocess.py\", line 1366, in _communicate_with_poll\n",
      "    ready = poller.poll()\n",
      "KeyboardInterrupt\n",
      "\n"
     ]
    }
   ],
   "source": [
    "!python stack_images_OpticalFlow.py"
   ]
  },
  {
   "cell_type": "code",
   "execution_count": 2,
   "metadata": {
    "collapsed": true
   },
   "outputs": [],
   "source": [
    "mkdir ./optical_flow_images/"
   ]
  },
  {
   "cell_type": "code",
   "execution_count": 4,
   "metadata": {
    "collapsed": true
   },
   "outputs": [],
   "source": [
    "mkdir ./examples/shot_detect_optical_flow/leveldb5/"
   ]
  },
  {
   "cell_type": "code",
   "execution_count": 7,
   "metadata": {
    "collapsed": false
   },
   "outputs": [],
   "source": [
    "ls ./optical_flow_images/"
   ]
  },
  {
   "cell_type": "code",
   "execution_count": 10,
   "metadata": {
    "collapsed": false
   },
   "outputs": [
    {
     "name": "stdout",
     "output_type": "stream",
     "text": [
      "\n",
      "\n",
      "\n",
      "\n",
      "0\n"
     ]
    },
    {
     "name": "stderr",
     "output_type": "stream",
     "text": [
      "bash: line 4: $tmp: ambiguous redirect\n",
      "ls: write error: Broken pipe\n",
      "bash: line 4: $tmp: ambiguous redirect\n",
      "ls: write error: Broken pipe\n",
      "bash: line 4: $tmp: ambiguous redirect\n",
      "ls: write error: Broken pipe\n",
      "bash: line 4: $tmp: ambiguous redirect\n",
      "ls: write error: Broken pipe\n"
     ]
    }
   ],
   "source": [
    "%%bash\n",
    "sum=0\n",
    "for f in ./optical_flow_images*\n",
    "do\n",
    "    ls $f/ |wc -l > $tmp\n",
    "    echo $tmp\n",
    "done\n",
    "\n",
    "echo $sum\n"
   ]
  },
  {
   "cell_type": "code",
   "execution_count": 46,
   "metadata": {
    "collapsed": false
   },
   "outputs": [
    {
     "name": "stdout",
     "output_type": "stream",
     "text": [
      "31706\r\n"
     ]
    }
   ],
   "source": [
    "! ls ./optical_flow_images/ | wc -l"
   ]
  },
  {
   "cell_type": "code",
   "execution_count": 47,
   "metadata": {
    "collapsed": false
   },
   "outputs": [
    {
     "name": "stdout",
     "output_type": "stream",
     "text": [
      "31706\r\n"
     ]
    }
   ],
   "source": [
    "! ls ./optical_flow_images2/ | wc -l"
   ]
  },
  {
   "cell_type": "code",
   "execution_count": 48,
   "metadata": {
    "collapsed": false
   },
   "outputs": [
    {
     "name": "stdout",
     "output_type": "stream",
     "text": [
      "31706\r\n"
     ]
    }
   ],
   "source": [
    "! ls ./optical_flow_images3/ | wc -l"
   ]
  },
  {
   "cell_type": "code",
   "execution_count": 49,
   "metadata": {
    "collapsed": false
   },
   "outputs": [
    {
     "name": "stdout",
     "output_type": "stream",
     "text": [
      "31706\r\n"
     ]
    }
   ],
   "source": [
    "! ls ./optical_flow_images4/ | wc -l"
   ]
  },
  {
   "cell_type": "code",
   "execution_count": 62,
   "metadata": {
    "collapsed": false
   },
   "outputs": [
    {
     "name": "stdout",
     "output_type": "stream",
     "text": [
      "694\n",
      "748\n",
      "736\n",
      "796\n",
      "700\n"
     ]
    }
   ],
   "source": [
    "! ls ./optical_flow_images5/ | wc -l\n",
    "! ls ./optical_flow_images6/ | wc -l\n",
    "! ls ./optical_flow_images7/ | wc -l\n",
    "! ls ./optical_flow_images8/ | wc -l\n",
    "! ls ./optical_flow_images9/ | wc -l"
   ]
  },
  {
   "cell_type": "code",
   "execution_count": null,
   "metadata": {
    "collapsed": true
   },
   "outputs": [],
   "source": []
  }
 ],
 "metadata": {
  "kernelspec": {
   "display_name": "Python 2",
   "language": "python",
   "name": "python2"
  },
  "language_info": {
   "codemirror_mode": {
    "name": "ipython",
    "version": 2
   },
   "file_extension": ".py",
   "mimetype": "text/x-python",
   "name": "python",
   "nbconvert_exporter": "python",
   "pygments_lexer": "ipython2",
   "version": "2.7.3"
  }
 },
 "nbformat": 4,
 "nbformat_minor": 0
}
