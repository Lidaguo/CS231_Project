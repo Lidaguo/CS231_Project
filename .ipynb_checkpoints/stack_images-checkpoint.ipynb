{
 "cells": [
  {
   "cell_type": "code",
   "execution_count": 1,
   "metadata": {
    "collapsed": false
   },
   "outputs": [],
   "source": [
    "import sys\n",
    "sys.path.append(\"/afs/cs.stanford.edu/u/anenberg/scr/caffe/python/\")\n",
    "import caffe\n",
    "import leveldb\n",
    "import numpy as np\n",
    "import Image\n",
    "import numpy\n",
    "import os"
   ]
  },
  {
   "cell_type": "code",
   "execution_count": 2,
   "metadata": {
    "collapsed": true
   },
   "outputs": [],
   "source": [
    "def stack_images(image_filename_list):\n",
    "    # datum.channels, datum.height, datum.width = arr.shape\n",
    "    return np.concatenate([np.array(Image.open(image_filename)) for image_filename in image_filename_list], axis = 2).transpose(2,1,0)"
   ]
  },
  {
   "cell_type": "code",
   "execution_count": 3,
   "metadata": {
    "collapsed": false
   },
   "outputs": [],
   "source": [
    "meta = {}\n",
    "# change this\n",
    "meta['train'] = ('./data/allFrames/intermediate_lists/consecutive_5samples_10frames_train_list.txt', './data/allFrames/train/')\n",
    "meta['test'] = ('./data/allFrames/intermediate_lists/consecutive_5samples_10frames_test_list.txt', './data/allFrames/test/')"
   ]
  },
  {
   "cell_type": "code",
   "execution_count": 102,
   "metadata": {
    "collapsed": false
   },
   "outputs": [],
   "source": [
    "# change this\n",
    "video_list, video_dir = meta['test']\n",
    "\n",
    "df = pd.read_csv(video_list, delimiter = ' ', header = None, names = ['name', 'class_id'])\n",
    "df['video'] = df.name.apply(lambda x: x.split('/')[0])\n",
    "df['frame'] = df.name.apply(lambda x: x.split('/')[1])\n",
    "FRAMES_PER_GROUP = 10\n"
   ]
  },
  {
   "cell_type": "code",
   "execution_count": 103,
   "metadata": {
    "collapsed": false,
    "scrolled": true
   },
   "outputs": [],
   "source": [
    "# change this\n",
    "db = leveldb.LevelDB('./CS231N/examples/consecutive/leveldb/test/')\n",
    "\n",
    "for group_id, i in enumerate(range(0, len(df), FRAMES_PER_GROUP)):\n",
    "    image_filename_list = [os.path.join(video_dir, name) for name in df.name.values[i:i+FRAMES_PER_GROUP]]\n",
    "    stacked_image = stack_images(image_filename_list)\n",
    "    labels = list(set(df.class_id.values[i:i+FRAMES_PER_GROUP]))\n",
    "    assert len(labels) == 1\n",
    "    db.Put('%08d'%group_id, caffe.io.array_to_datum(stacked_image, label=labels[0]).SerializeToString())\n"
   ]
  },
  {
   "cell_type": "code",
   "execution_count": 106,
   "metadata": {
    "collapsed": false
   },
   "outputs": [
    {
     "name": "stdout",
     "output_type": "stream",
     "text": [
      "36M\t./CS231N/examples/consecutive/leveldb/train\r\n",
      "34M\t./CS231N/examples/consecutive/leveldb/test\r\n",
      "70M\t./CS231N/examples/consecutive/leveldb/\r\n"
     ]
    }
   ],
   "source": [
    "!du -h ./CS231N/examples/consecutive/leveldb/"
   ]
  },
  {
   "cell_type": "code",
   "execution_count": 5,
   "metadata": {
    "collapsed": false
   },
   "outputs": [
    {
     "name": "stdout",
     "output_type": "stream",
     "text": [
      "True\n",
      "False\n"
     ]
    }
   ],
   "source": [
    "for k in meta:\n",
    "    print k==\"test\""
   ]
  },
  {
   "cell_type": "code",
   "execution_count": null,
   "metadata": {
    "collapsed": true
   },
   "outputs": [],
   "source": []
  }
 ],
 "metadata": {
  "kernelspec": {
   "display_name": "Python 2",
   "language": "python",
   "name": "python2"
  },
  "language_info": {
   "codemirror_mode": {
    "name": "ipython",
    "version": 2
   },
   "file_extension": ".py",
   "mimetype": "text/x-python",
   "name": "python",
   "nbconvert_exporter": "python",
   "pygments_lexer": "ipython2",
   "version": "2.7.3"
  }
 },
 "nbformat": 4,
 "nbformat_minor": 0
}
