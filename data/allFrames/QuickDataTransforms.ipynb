{
 "cells": [
  {
   "cell_type": "code",
   "execution_count": 4,
   "metadata": {
    "collapsed": false
   },
   "outputs": [],
   "source": [
    "!ln -s ./Train/v_ApplyEyeMakeup_g08_c01_00001.jpg v_ApplyEyeMakeup_g08_c01_00001.jpg"
   ]
  },
  {
   "cell_type": "code",
   "execution_count": 43,
   "metadata": {
    "collapsed": false
   },
   "outputs": [],
   "source": [
    "import subprocess, os, pickle, csv\n",
    "\n",
    "UCF_Frames=\"/afs/cs.stanford.edu/group/cvgl/rawdata/THUMOS2014/Training/Frames/\"\n",
    "dataDir=\"./\"\n",
    "TRAIN_DIR=\"Train_small\"\n",
    "OUT_LIST = \"UCF_small.txt\"\n",
    "\n",
    "UCF_vidmap = pickle.load( open(os.path.join(dataDir,\"UCF_vidmap.pkl\"), \"rb\" ) )\n",
    "TrainDir=os.path.join(dataDir,TRAIN_DIR)\n",
    "if not os.path.isdir(TrainDir):\n",
    "    os.makedirs(TrainDir) \n",
    "\n",
    "#makes a list of vid_name, path_to_vid_dir\n",
    "UCF_vids = [(d,os.path.join(UCF_Frames,d)) for d in os.listdir(UCF_Frames) if os.path.isdir(os.path.join(UCF_Frames,d))]\n"
   ]
  },
  {
   "cell_type": "code",
   "execution_count": 5,
   "metadata": {
    "collapsed": true
   },
   "outputs": [],
   "source": [
    "%load_ext autoreload\n",
    "%autoreload 2"
   ]
  },
  {
   "cell_type": "code",
   "execution_count": 6,
   "metadata": {
    "collapsed": true
   },
   "outputs": [],
   "source": [
    "import subprocess, os, pickle, csv"
   ]
  },
  {
   "cell_type": "code",
   "execution_count": 111,
   "metadata": {
    "collapsed": false
   },
   "outputs": [
    {
     "name": "stdout",
     "output_type": "stream",
     "text": [
      "10150\n",
      "13320\n"
     ]
    }
   ],
   "source": [
    "! ls /afs/cs.stanford.edu/group/cvgl/rawdata/THUMOS2014/Training/Frames/ | wc -l\n",
    "! ls /afs/cs.stanford.edu/group/cvgl/rawdata/THUMOS2014/Training/Frames_OLD | wc -l"
   ]
  },
  {
   "cell_type": "code",
   "execution_count": 85,
   "metadata": {
    "collapsed": false
   },
   "outputs": [],
   "source": [
    "VALID_DIR =\"/afs/cs.stanford.edu/group/cvgl/rawdata/THUMOS2014/Validation/Frames/video_validation_0001010\"\n",
    "ts_map = pickle.load( open(os.path.join(VALID_DIR,\"time_stamp_map.pkl\"), \"rb\" ) )\n",
    "\n"
   ]
  },
  {
   "cell_type": "code",
   "execution_count": 67,
   "metadata": {
    "collapsed": false
   },
   "outputs": [],
   "source": [
    "UCF_vidmap = pickle.load( open(os.path.join(\"./\",\"UCF_vidmap.pkl\"), \"rb\" ) )\n",
    "VALID_vidmap =  pickle.load( open(os.path.join(\"./\",\"VALID_vidmap.pkl\"), \"rb\" ) )"
   ]
  },
  {
   "cell_type": "code",
   "execution_count": 62,
   "metadata": {
    "collapsed": false
   },
   "outputs": [
    {
     "data": {
      "text/plain": [
       "1"
      ]
     },
     "execution_count": 62,
     "metadata": {},
     "output_type": "execute_result"
    }
   ],
   "source": [
    "UCF_vidmap[1]['v_ApplyEyeMakeup_g08_c01']"
   ]
  },
  {
   "cell_type": "code",
   "execution_count": 64,
   "metadata": {
    "collapsed": false
   },
   "outputs": [
    {
     "data": {
      "text/plain": [
       "4"
      ]
     },
     "execution_count": 64,
     "metadata": {},
     "output_type": "execute_result"
    }
   ],
   "source": [
    "VALID_vidmap[1]['video_validation_0000354']"
   ]
  },
  {
   "cell_type": "code",
   "execution_count": 66,
   "metadata": {
    "collapsed": false
   },
   "outputs": [],
   "source": [
    "Train_map = UCF_vidmap[1]\n",
    "Train_map.update(VALID_vidmap[1])"
   ]
  },
  {
   "cell_type": "code",
   "execution_count": 109,
   "metadata": {
    "collapsed": false
   },
   "outputs": [
    {
     "name": "stdout",
     "output_type": "stream",
     "text": [
      "v_ApplyEyeMakeup_g08_c01\n",
      "v_ApplyEyeMakeup_g08_c02\n",
      "v_ApplyEyeMakeup_g08_c03\n",
      "v_ApplyEyeMakeup_g08_c04\n",
      "v_ApplyEyeMakeup_g08_c05\n",
      "v_ApplyEyeMakeup_g09_c01\n",
      "v_ApplyEyeMakeup_g09_c02\n",
      "v_ApplyEyeMakeup_g09_c03\n",
      "v_ApplyEyeMakeup_g09_c04\n",
      "v_ApplyEyeMakeup_g09_c05\n"
     ]
    }
   ],
   "source": [
    "UCF_Frames=\"/afs/cs.stanford.edu/group/cvgl/rawdata/THUMOS2014/Training/Frames/\"\n",
    "for d in os.listdir(UCF_Frames)[:10]:\n",
    "    print d"
   ]
  },
  {
   "cell_type": "code",
   "execution_count": 112,
   "metadata": {
    "collapsed": false
   },
   "outputs": [
    {
     "data": {
      "text/plain": [
       "99"
      ]
     },
     "execution_count": 112,
     "metadata": {},
     "output_type": "execute_result"
    }
   ],
   "source": [
    "VALID_vidmap[1]['video_validation_0001010']"
   ]
  },
  {
   "cell_type": "code",
   "execution_count": 113,
   "metadata": {
    "collapsed": false
   },
   "outputs": [
    {
     "data": {
      "text/plain": [
       "1"
      ]
     },
     "execution_count": 113,
     "metadata": {},
     "output_type": "execute_result"
    }
   ],
   "source": [
    "UCF_vidmap[1]['v_ApplyEyeMakeup_g08_c01']"
   ]
  },
  {
   "cell_type": "code",
   "execution_count": null,
   "metadata": {
    "collapsed": true
   },
   "outputs": [],
   "source": []
  }
 ],
 "metadata": {
  "kernelspec": {
   "display_name": "Python 2",
   "language": "python",
   "name": "python2"
  },
  "language_info": {
   "codemirror_mode": {
    "name": "ipython",
    "version": 2
   },
   "file_extension": ".py",
   "mimetype": "text/x-python",
   "name": "python",
   "nbconvert_exporter": "python",
   "pygments_lexer": "ipython2",
   "version": "2.7.3"
  }
 },
 "nbformat": 4,
 "nbformat_minor": 0
}
