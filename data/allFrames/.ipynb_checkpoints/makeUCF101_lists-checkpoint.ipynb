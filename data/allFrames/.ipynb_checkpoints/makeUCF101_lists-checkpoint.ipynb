{
 "cells": [
  {
   "cell_type": "raw",
   "metadata": {},
   "source": [
    "This script makes the test and train splits for the UCF101 data set"
   ]
  },
  {
   "cell_type": "code",
   "execution_count": 14,
   "metadata": {
    "collapsed": true
   },
   "outputs": [],
   "source": [
    "import pandas as pd\n",
    "import os, csv, pickle, string\n",
    "import numpy as np\n",
    "lists_dir = '/afs/cs.stanford.edu/u/anenberg/scr/CS231N/data/allFrames/lists'\n",
    "\n",
    "\n",
    "\n",
    "test_list1 = \"/afs/cs.stanford.edu/group/cvgl/rawdata/THUMOS2014/Training/ucfTrainTestlist/testlist01.txt\"\n",
    "train_list1 = \"/afs/cs.stanford.edu/group/cvgl/rawdata/THUMOS2014/Training/ucfTrainTestlist/trainlist01.txt\"\n",
    "original_lists = [test_list1, train_list1]\n",
    "result_lists = [os.path.join(lists_dir,\"UCF_test_list.txt\"), os.path.join(lists_dir,\"UCF_train_list.txt\")]"
   ]
  },
  {
   "cell_type": "code",
   "execution_count": 15,
   "metadata": {
    "collapsed": true
   },
   "outputs": [],
   "source": [
    "data_dir = \"/afs/cs.stanford.edu/u/anenberg/scr/CS231N/data/allFrames/train/\""
   ]
  },
  {
   "cell_type": "code",
   "execution_count": 12,
   "metadata": {
    "collapsed": false
   },
   "outputs": [],
   "source": [
    "#UCF_vidmap = pickle.load( open(\"./UCF_vidmap.pkl\", \"rb\" ) )\n",
    "UCF_classIndex = pickle.load( open(\"./class_index.pkl\", \"rb\") )"
   ]
  },
  {
   "cell_type": "code",
   "execution_count": 13,
   "metadata": {
    "collapsed": true
   },
   "outputs": [
    {
     "data": {
      "text/plain": [
       "{'applyeyemakeup': 0,\n",
       " 'applylipstick': 1,\n",
       " 'archery': 2,\n",
       " 'babycrawling': 3,\n",
       " 'balancebeam': 4,\n",
       " 'bandmarching': 5,\n",
       " 'baseballpitch': 6,\n",
       " 'basketball': 7,\n",
       " 'basketballdunk': 8,\n",
       " 'benchpress': 9,\n",
       " 'biking': 10,\n",
       " 'billiards': 11,\n",
       " 'blowdryhair': 12,\n",
       " 'blowingcandles': 13,\n",
       " 'bodyweightsquats': 14,\n",
       " 'bowling': 15,\n",
       " 'boxingpunchingbag': 16,\n",
       " 'boxingspeedbag': 17,\n",
       " 'breaststroke': 18,\n",
       " 'brushingteeth': 19,\n",
       " 'cleanandjerk': 20,\n",
       " 'cliffdiving': 21,\n",
       " 'cricketbowling': 22,\n",
       " 'cricketshot': 23,\n",
       " 'cuttinginkitchen': 24,\n",
       " 'diving': 25,\n",
       " 'drumming': 26,\n",
       " 'fencing': 27,\n",
       " 'fieldhockeypenalty': 28,\n",
       " 'floorgymnastics': 29,\n",
       " 'frisbeecatch': 30,\n",
       " 'frontcrawl': 31,\n",
       " 'golfswing': 32,\n",
       " 'haircut': 33,\n",
       " 'hammering': 34,\n",
       " 'hammerthrow': 35,\n",
       " 'handstandpushups': 36,\n",
       " 'handstandwalking': 37,\n",
       " 'headmassage': 38,\n",
       " 'highjump': 39,\n",
       " 'horserace': 40,\n",
       " 'horseriding': 41,\n",
       " 'hulahoop': 42,\n",
       " 'icedancing': 43,\n",
       " 'javelinthrow': 44,\n",
       " 'jugglingballs': 45,\n",
       " 'jumpingjack': 46,\n",
       " 'jumprope': 47,\n",
       " 'kayaking': 48,\n",
       " 'knitting': 49,\n",
       " 'longjump': 50,\n",
       " 'lunges': 51,\n",
       " 'militaryparade': 52,\n",
       " 'mixing': 53,\n",
       " 'moppingfloor': 54,\n",
       " 'nunchucks': 55,\n",
       " 'parallelbars': 56,\n",
       " 'pizzatossing': 57,\n",
       " 'playingcello': 58,\n",
       " 'playingdaf': 59,\n",
       " 'playingdhol': 60,\n",
       " 'playingflute': 61,\n",
       " 'playingguitar': 62,\n",
       " 'playingpiano': 63,\n",
       " 'playingsitar': 64,\n",
       " 'playingtabla': 65,\n",
       " 'playingviolin': 66,\n",
       " 'polevault': 67,\n",
       " 'pommelhorse': 68,\n",
       " 'pullups': 69,\n",
       " 'punch': 70,\n",
       " 'pushups': 71,\n",
       " 'rafting': 72,\n",
       " 'rockclimbingindoor': 73,\n",
       " 'ropeclimbing': 74,\n",
       " 'rowing': 75,\n",
       " 'salsaspin': 76,\n",
       " 'shavingbeard': 77,\n",
       " 'shotput': 78,\n",
       " 'skateboarding': 79,\n",
       " 'skiing': 80,\n",
       " 'skijet': 81,\n",
       " 'skydiving': 82,\n",
       " 'soccerjuggling': 83,\n",
       " 'soccerpenalty': 84,\n",
       " 'stillrings': 85,\n",
       " 'sumowrestling': 86,\n",
       " 'surfing': 87,\n",
       " 'swing': 88,\n",
       " 'tabletennisshot': 89,\n",
       " 'taichi': 90,\n",
       " 'tennisswing': 91,\n",
       " 'throwdiscus': 92,\n",
       " 'trampolinejumping': 93,\n",
       " 'typing': 94,\n",
       " 'unevenbars': 95,\n",
       " 'volleyballspiking': 96,\n",
       " 'walkingwithdog': 97,\n",
       " 'wallpushups': 98,\n",
       " 'writingonboard': 99,\n",
       " 'yoyo': 100}"
      ]
     },
     "execution_count": 13,
     "metadata": {},
     "output_type": "execute_result"
    }
   ],
   "source": [
    "UCF_classIndex[0]"
   ]
  },
  {
   "cell_type": "code",
   "execution_count": 17,
   "metadata": {
    "collapsed": false
   },
   "outputs": [
    {
     "ename": "AttributeError",
     "evalue": "'list' object has no attribute 'split'",
     "output_type": "error",
     "traceback": [
      "\u001b[1;31m---------------------------------------------------------------------------\u001b[0m",
      "\u001b[1;31mAttributeError\u001b[0m                            Traceback (most recent call last)",
      "\u001b[1;32m<ipython-input-17-3c5aa94a50f8>\u001b[0m in \u001b[0;36m<module>\u001b[1;34m()\u001b[0m\n\u001b[0;32m     10\u001b[0m                 \u001b[0mrow0\u001b[0m \u001b[1;33m=\u001b[0m \u001b[0mrow\u001b[0m\u001b[1;33m[\u001b[0m\u001b[1;36m0\u001b[0m\u001b[1;33m]\u001b[0m\u001b[1;33m.\u001b[0m\u001b[0msplit\u001b[0m\u001b[1;33m(\u001b[0m\u001b[1;34m'/'\u001b[0m\u001b[1;33m)\u001b[0m\u001b[1;33m\u001b[0m\u001b[0m\n\u001b[0;32m     11\u001b[0m                 \u001b[0mclassname\u001b[0m \u001b[1;33m=\u001b[0m \u001b[0mstring\u001b[0m\u001b[1;33m.\u001b[0m\u001b[0mlower\u001b[0m\u001b[1;33m(\u001b[0m\u001b[0mrow0\u001b[0m\u001b[1;33m[\u001b[0m\u001b[1;36m0\u001b[0m\u001b[1;33m]\u001b[0m\u001b[1;33m)\u001b[0m \u001b[1;31m#ApplyEyeMakeup\u001b[0m\u001b[1;33m\u001b[0m\u001b[0m\n\u001b[1;32m---> 12\u001b[1;33m                 \u001b[0mvideoname\u001b[0m \u001b[1;33m=\u001b[0m \u001b[0mrow0\u001b[0m\u001b[1;33m.\u001b[0m\u001b[0msplit\u001b[0m\u001b[1;33m(\u001b[0m\u001b[1;34m'.'\u001b[0m\u001b[1;33m)\u001b[0m\u001b[1;33m[\u001b[0m\u001b[1;36m0\u001b[0m\u001b[1;33m]\u001b[0m \u001b[1;31m#v_ApplyEyeMakeup_g15_c03\u001b[0m\u001b[1;33m\u001b[0m\u001b[0m\n\u001b[0m\u001b[0;32m     13\u001b[0m                 \u001b[0mclassIndex\u001b[0m \u001b[1;33m=\u001b[0m \u001b[0mUCF_classIndex\u001b[0m\u001b[1;33m[\u001b[0m\u001b[1;36m0\u001b[0m\u001b[1;33m]\u001b[0m\u001b[1;33m[\u001b[0m\u001b[0mclassname\u001b[0m\u001b[1;33m]\u001b[0m \u001b[1;31m#Should be an int.\u001b[0m\u001b[1;33m\u001b[0m\u001b[0m\n\u001b[0;32m     14\u001b[0m                 \u001b[1;31m#Check if the video exists.\u001b[0m\u001b[1;33m\u001b[0m\u001b[1;33m\u001b[0m\u001b[0m\n",
      "\u001b[1;31mAttributeError\u001b[0m: 'list' object has no attribute 'split'"
     ]
    }
   ],
   "source": [
    "#Output lists\n",
    "# video_name/00000001.jpg [\n",
    "for original_list, result_list in zip(original_lists,result_lists):\n",
    "\n",
    "    with open(original_list,'rb') as f:\n",
    "        reader = csv.reader(f, delimiter=' ')\n",
    "        with open(result_list,'wb') as f2:\n",
    "            out = csv.writer(f2, delimiter=' ')\n",
    "            for row in reader:\n",
    "                row0 = row[0].split('/')\n",
    "                print row0\n",
    "                classname = string.lower(row0[0]) #ApplyEyeMakeup\n",
    "                videoname = row0.split('.')[0] #v_ApplyEyeMakeup_g15_c03\n",
    "                classIndex = UCF_classIndex[0][classname] #Should be an int.\n",
    "                #Check if the video exists.\n",
    "                #path to actual video.\n",
    "                actualVideoFrame = os.path.join(os.path.join(data_dir,videoname),\"00000001.jpg\")\n",
    "                if os.path.exists(actualVideoFrame):\n",
    "                    relativePathToFrame = videoname+ \"/00000001.jpg\"\n",
    "                    out.writerow([relativePathToFrame, classIndex])"
   ]
  },
  {
   "cell_type": "code",
   "execution_count": null,
   "metadata": {
    "collapsed": true
   },
   "outputs": [],
   "source": []
  }
 ],
 "metadata": {
  "kernelspec": {
   "display_name": "Python 2",
   "language": "python",
   "name": "python2"
  },
  "language_info": {
   "codemirror_mode": {
    "name": "ipython",
    "version": 2
   },
   "file_extension": ".py",
   "mimetype": "text/x-python",
   "name": "python",
   "nbconvert_exporter": "python",
   "pygments_lexer": "ipython2",
   "version": "2.7.3"
  }
 },
 "nbformat": 4,
 "nbformat_minor": 0
}
